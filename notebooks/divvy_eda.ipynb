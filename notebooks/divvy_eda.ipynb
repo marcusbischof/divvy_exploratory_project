{
 "cells": [
  {
   "cell_type": "code",
   "execution_count": null,
   "metadata": {
    "collapsed": true
   },
   "outputs": [],
   "source": [
    "############################################\n",
    "# \n",
    "# Marcus Bischof\n",
    "# Divvy EDA : Chicago\n",
    "#\n",
    "############################################\n",
    "\n",
    "import pandas as pd\n",
    "import numpy as np\n",
    "from matplotlib import pyplot as plt\n",
    "import seaborn as sns\n",
    "\n",
    "pd.options.display.float_format = '{:.2f}'.format\n",
    "pd.set_option('display.max_rows', 500)\n",
    "pd.set_option('display.max_columns', 500)"
   ]
  },
  {
   "cell_type": "code",
   "execution_count": null,
   "metadata": {
    "collapsed": true
   },
   "outputs": [],
   "source": [
    "# Do we need to create and pickle a memory efficient version of the divvy data?\n",
    "CREATE_SMALL_MEMORY_SET = False\n",
    "\n",
    "if CREATE_SMALL_MEMORY_SET:\n",
    "\n",
    "    df = pd.read_csv('../data/raw/divvy_data.csv') \n",
    "    \n",
    "    # Objects with defined ranges (I do this to from_ and to_station because we are just dealing with Chicago)\n",
    "    for object_to_cat_feature in ['gender', 'usertype', 'events', 'from_station_name', 'to_station_name']:\n",
    "        df[object_to_cat_feature] = df[object_to_cat_feature].astype('category')\n",
    "        \n",
    "    # We will need to apply space saving operations on the data here to make it more manageable in local memory.\n",
    "    # df.describe() defaults to numerics, so figure out the ranges for numerics and downsize when possible.\n",
    "    df.describe().T[['min', 'max']]\n",
    "\n",
    "    # Ints with values ranging from 0 to 255 can be stored as uint8\n",
    "    for small_int_feature in ['day', 'month', 'week', 'hour', 'tripduration', 'dpcapacity_start', 'dpcapacity_end']:\n",
    "        df[small_int_feature] = df[small_int_feature].astype('uint8')\n",
    "\n",
    "    # Ints with values ranging from 0 to 65535 can be stored as uint16\n",
    "    for med_int_feature in ['year', 'from_station_id']:\n",
    "        df[small_int_feature] = df[small_int_feature].astype('uint16')\n",
    "\n",
    "    # Floats that don't need single or double precision\n",
    "    for sm_float_val in ['latitude_start', 'longitude_start', 'latitude_end', 'longitude_end']:\n",
    "        df[sm_float_val] = df[sm_float_val].astype('float16')\n",
    "\n",
    "    # int8 -128 to 127\n",
    "    df.temperature = df.temperature.astype('int8')\n",
    "    \n",
    "    df.to_pickle('../data/processed/divvy_data_small_memory.pkl')"
   ]
  },
  {
   "cell_type": "code",
   "execution_count": null,
   "metadata": {
    "collapsed": true
   },
   "outputs": [],
   "source": [
    "# Do we want to load the more memory efficient pickle or not?\n",
    "LOAD_FROM_SMALLER_MEMORY = True\n",
    "\n",
    "df = pd.read_csv('../data/raw/divvy_data.csv') if not LOAD_FROM_SMALLER_MEMORY else pd.read_pickle('../data/processed/divvy_data_small_memory.pkl')"
   ]
  },
  {
   "cell_type": "code",
   "execution_count": null,
   "metadata": {
    "collapsed": true
   },
   "outputs": [],
   "source": [
    "df.info()"
   ]
  },
  {
   "cell_type": "code",
   "execution_count": null,
   "metadata": {
    "collapsed": true
   },
   "outputs": [],
   "source": []
  }
 ],
 "metadata": {
  "kernelspec": {
   "display_name": "Python 3",
   "language": "python",
   "name": "python3"
  },
  "language_info": {
   "codemirror_mode": {
    "name": "ipython",
    "version": 3
   },
   "file_extension": ".py",
   "mimetype": "text/x-python",
   "name": "python",
   "nbconvert_exporter": "python",
   "pygments_lexer": "ipython3",
   "version": "3.6.2"
  }
 },
 "nbformat": 4,
 "nbformat_minor": 2
}
