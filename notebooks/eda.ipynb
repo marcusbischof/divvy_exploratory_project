{
 "cells": [
  {
   "cell_type": "code",
   "execution_count": null,
   "metadata": {
    "collapsed": true
   },
   "outputs": [],
   "source": [
    "############################################\n",
    "# \n",
    "# Marcus Bischof\n",
    "# Divvy EDA : Chicago\n",
    "#\n",
    "############################################\n",
    "\n",
    "# Operations\n",
    "import pandas as pd\n",
    "import numpy as np\n",
    "\n",
    "# Custom functions\n",
    "from functions_for_eda import *\n",
    "\n",
    "# Data viz\n",
    "from matplotlib import pyplot as plt\n",
    "import seaborn as sns\n",
    "\n",
    "# Maps\n",
    "import folium\n",
    "from folium import plugins\n",
    "\n",
    "# Jupyter display\n",
    "pd.set_option('display.max_rows', 500)\n",
    "pd.set_option('display.max_columns', 500)\n",
    "\n",
    "# Do we need to load raw .csv, and create a single memory efficient .pkl?\n",
    "CREATE_SMALL_MEMORY_SET = False\n",
    "if CREATE_SMALL_MEMORY_SET:\n",
    "    create_memory_efficient_pkl()\n",
    "\n",
    "# Do we want to break up the 860+mb memory efficient .pkl into 10 slices?\n",
    "CREATE_SLICES_OF_MEMORY_EFFICIENT_PKL = False\n",
    "if CREATE_SLICES_OF_MEMORY_EFFICIENT_PKL:\n",
    "    create_slices_of_memory_efficient_pkl()\n",
    "    \n",
    "df = pd.read_pickle('../data/interim/df_0_1000000.pkl')\n",
    "n_hood = load_geojson_neighborhood_data()\n",
    "stations = pd.read_pickle('../data/processed/stations.pkl')"
   ]
  },
  {
   "cell_type": "markdown",
   "metadata": {},
   "source": [
    "-  __To create a map.__\n",
    "```\n",
    "create_chicago_map()\n",
    "```\n",
    "\n",
    "-  __To add points to a map.__ \\*\\*Note: icon must be a font-awesome icon.\n",
    "```\n",
    "add_points_to_map\n",
    "(\n",
    "        folium_map_obj, color, icon, points\n",
    ")\n",
    "```\n",
    "\n",
    "-  __To add a neighborhood overlay.__\n",
    "```\n",
    "add_neighborhood_overlay_to_map\n",
    "(\n",
    "        folium_map_obj, neighborhood_name, color, n_hood_df_polylines\n",
    ")\n",
    "```"
   ]
  },
  {
   "cell_type": "code",
   "execution_count": null,
   "metadata": {
    "collapsed": true
   },
   "outputs": [],
   "source": [
    "m = create_chicago_map()"
   ]
  },
  {
   "cell_type": "code",
   "execution_count": null,
   "metadata": {},
   "outputs": [],
   "source": [
    "# Thanks to https://alysivji.github.io/getting-started-with-folium.html\n",
    "stations_starts = stations[['lat', 'long']].values\n",
    "\n",
    "# plot heatmap\n",
    "m.add_child(plugins.HeatMap(stations_starts, radius=10))\n",
    "m"
   ]
  },
  {
   "cell_type": "markdown",
   "metadata": {},
   "source": [
    "We see a signficant concentration of <i><b>divvy stations</b></i> in:\n",
    "    -  The loop\n",
    "    -  Northern neighborhoods on the lake like Lincoln Park \n",
    "    \n",
    "For our analysis, let's first understand the data broadly. \n",
    "\n",
    "We will <i><b>then</b></i> start with a neighborhood centric approach to analyzing the data. I believe that since neighborhoods contain residents that may share certain commonalities, we may see interesting trends <i><b>among</b></i> and <i><b>between</b></i> various neighborhoods."
   ]
  },
  {
   "cell_type": "code",
   "execution_count": null,
   "metadata": {},
   "outputs": [],
   "source": [
    "df.head()"
   ]
  },
  {
   "cell_type": "code",
   "execution_count": null,
   "metadata": {},
   "outputs": [],
   "source": [
    "g = sns.catplot(\n",
    "    x=\"month\", y=\"tripduration\", hue=\"usertype\",\n",
    "    data=df, kind=\"violin\"\n",
    ")"
   ]
  },
  {
   "cell_type": "code",
   "execution_count": null,
   "metadata": {},
   "outputs": [],
   "source": [
    "df[['month', 'usertype', 'tripduration']].groupby(['month', 'usertype']).mean().dropna(how='any')"
   ]
  },
  {
   "cell_type": "markdown",
   "metadata": {},
   "source": [
    "It seems as though we are only getting customer data from <i><b>July</b></i>.\n",
    "\n",
    "How much does trip duration vary across event types?"
   ]
  },
  {
   "cell_type": "code",
   "execution_count": null,
   "metadata": {},
   "outputs": [],
   "source": [
    "g = sns.catplot(\n",
    "    x=\"events\", y=\"tripduration\",\n",
    "    data=df, kind=\"violin\"\n",
    ")"
   ]
  },
  {
   "cell_type": "code",
   "execution_count": null,
   "metadata": {},
   "outputs": [],
   "source": [
    "g = sns.catplot(\n",
    "    x=\"from_neighborhood\", y=\"tripduration\",\n",
    "    data=df, kind=\"violin\"\n",
    ")\n",
    "plt.xticks(rotation=90)"
   ]
  },
  {
   "cell_type": "code",
   "execution_count": null,
   "metadata": {
    "collapsed": true
   },
   "outputs": [],
   "source": [
    "trip_durations_by_hood = df[['from_neighborhood', 'tripduration']].groupby(['from_neighborhood']).agg(['count', 'mean']).sort_values([('tripduration', 'mean')], ascending=False).reset_index()"
   ]
  },
  {
   "cell_type": "code",
   "execution_count": null,
   "metadata": {},
   "outputs": [],
   "source": [
    "trip_durations_by_hood.head()"
   ]
  },
  {
   "cell_type": "markdown",
   "metadata": {},
   "source": [
    "Let's add the top 5 neighborhoods (by average tripduration) to the map. Anything in common here?"
   ]
  },
  {
   "cell_type": "code",
   "execution_count": null,
   "metadata": {},
   "outputs": [],
   "source": [
    "for top_hood in ['Edgewater', 'Museum Campus', 'Little Village', 'Douglas', 'Gold Coast']:\n",
    "    add_neighborhood_overlay_to_map(m, top_hood, 'red', n_hood)\n",
    "m"
   ]
  },
  {
   "cell_type": "markdown",
   "metadata": {},
   "source": [
    "I am certainly gettting the impression that the top neighborhoods in terms of average trip duration are actually neighborhoods with a small amount of stations, this makes sense.\n",
    "\n",
    "We will do the following:\n",
    "    -  The top neighborhoods (1 --> 13): yellow\n",
    "    -  The middle neighborhoods (14 --> 26): green\n",
    "    -  The bottom neighborhoods (27 --> 39): blue"
   ]
  },
  {
   "cell_type": "code",
   "execution_count": null,
   "metadata": {},
   "outputs": [],
   "source": [
    "neighborhood_map = create_chicago_map()\n",
    "i = 1\n",
    "for neighborhood in trip_durations_by_hood.itertuples():\n",
    "    color = ''\n",
    "    if i <= 13:\n",
    "        color = 'yellow'\n",
    "    elif 14 <= i <= 26:\n",
    "        color = 'green'\n",
    "    else:\n",
    "        color = 'blue'\n",
    "    i += 1\n",
    "    add_neighborhood_overlay_to_map(neighborhood_map, neighborhood[1], color, n_hood)\n",
    "neighborhood_map"
   ]
  },
  {
   "cell_type": "code",
   "execution_count": null,
   "metadata": {
    "collapsed": true
   },
   "outputs": [],
   "source": []
  }
 ],
 "metadata": {
  "kernelspec": {
   "display_name": "Python Kern",
   "language": "python",
   "name": "env"
  },
  "language_info": {
   "codemirror_mode": {
    "name": "ipython",
    "version": 3
   },
   "file_extension": ".py",
   "mimetype": "text/x-python",
   "name": "python",
   "nbconvert_exporter": "python",
   "pygments_lexer": "ipython3",
   "version": "3.7.2"
  }
 },
 "nbformat": 4,
 "nbformat_minor": 2
}
