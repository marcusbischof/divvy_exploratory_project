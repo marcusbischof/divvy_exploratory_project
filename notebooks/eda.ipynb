{
 "cells": [
  {
   "cell_type": "code",
   "execution_count": null,
   "metadata": {
    "collapsed": true
   },
   "outputs": [],
   "source": [
    "############################################\n",
    "# \n",
    "# Marcus Bischof\n",
    "# Divvy EDA : Chicago\n",
    "#\n",
    "############################################\n",
    "\n",
    "# Operations\n",
    "import pandas as pd\n",
    "import numpy as np\n",
    "\n",
    "# Image libs\n",
    "from PIL import Image, ImageChops\n",
    "from folium.raster_layers import ImageOverlay\n",
    "\n",
    "# Custom functions\n",
    "from functions_for_eda import *\n",
    "\n",
    "# Data viz\n",
    "from matplotlib import pyplot as plt\n",
    "import seaborn as sns\n",
    "\n",
    "# Maps\n",
    "import folium\n",
    "from folium import plugins\n",
    "\n",
    "# Jupyter display\n",
    "pd.set_option('display.max_rows', 500)\n",
    "pd.set_option('display.max_columns', 500)\n",
    "\n",
    "# Do we need to load raw .csv, and create a single memory efficient .pkl?\n",
    "CREATE_SMALL_MEMORY_SET = False\n",
    "if CREATE_SMALL_MEMORY_SET:\n",
    "    create_memory_efficient_pkl()\n",
    "\n",
    "# Do we want to break up the 860+mb memory efficient .pkl into 10 slices?\n",
    "CREATE_SLICES_OF_MEMORY_EFFICIENT_PKL = False\n",
    "if CREATE_SLICES_OF_MEMORY_EFFICIENT_PKL:\n",
    "    create_slices_of_memory_efficient_pkl()\n",
    "\n",
    "# One tenth of the divvy data, to be used for exploration.\n",
    "df = pd.read_pickle('../data/interim/df_0_1000000.pkl')\n",
    "# Neighborhoods and geo.\n",
    "n_hood = load_geojson_neighborhood_data()\n",
    "stations = pd.read_pickle('../data/processed/stations.pkl')"
   ]
  },
  {
   "cell_type": "markdown",
   "metadata": {},
   "source": [
    "# Divvy Data Description on Kaggle's Site\n",
    "------------\n",
    "\n",
    "-  __trip_idID__ attached to each trip taken\n",
    "-  __year__ year\n",
    "-  __month__ month\n",
    "-  __week__ week No.\n",
    "-  __day__\n",
    "-  __hour__\n",
    "-  __usertype__ \n",
    "    -  _Customer_ is a rider who purchased a 24-Hour Pass\n",
    "    -  _Subscriber_ is a rider who purchased an Annual -  Membership\n",
    "-  __gender__\n",
    "-  __starttime__ day and time trip started, in CST\n",
    "-  __stoptime__ day and time trip ended, in CST\n",
    "-  __tripduration__ time of trip in minutes\n",
    "-  __temperature__\n",
    "-  __events__\n",
    "-  __from_station_id__ ID of station where trip originated\n",
    "-  __from_station_name__ name of station where trip terminated\n",
    "-  __latitude_start__ station latitude\n",
    "-  __longitude_start__ station longitude\n",
    "-  __dpcapacity_start__ number of total docks at each station\n",
    "-  __to_station_id__\n",
    "-  __to_station_name__\n",
    "-  __latitude_end__\n",
    "-  __longitude_end__\n",
    "-  __dpcapacity_end__ number of total docks at each station"
   ]
  },
  {
   "cell_type": "markdown",
   "metadata": {},
   "source": [
    "# Custom Functions that I wrote for this Analysis\n",
    "------------\n",
    "\n",
    "-  __To create a map.__\n",
    "```\n",
    "create_chicago_map()\n",
    "```\n",
    "\n",
    "-  __To add points to a map.__ \\*\\*Note: icon must be a font-awesome icon.\n",
    "```\n",
    "add_points_to_map\n",
    "(\n",
    "        folium_map_obj, color, icon, points\n",
    ")\n",
    "```\n",
    "\n",
    "-  __To add a neighborhood overlay.__\n",
    "```\n",
    "add_neighborhood_overlay_to_map\n",
    "(\n",
    "        folium_map_obj, neighborhood_name, color, n_hood_df_polylines\n",
    ")\n",
    "```"
   ]
  },
  {
   "cell_type": "code",
   "execution_count": null,
   "metadata": {
    "collapsed": true
   },
   "outputs": [],
   "source": [
    "m = create_chicago_map()"
   ]
  },
  {
   "cell_type": "code",
   "execution_count": null,
   "metadata": {},
   "outputs": [],
   "source": [
    "# Thanks to https://alysivji.github.io/getting-started-with-folium.html\n",
    "stations_starts = stations[['lat', 'long']].values\n",
    "\n",
    "# plot heatmap\n",
    "m.add_child(plugins.HeatMap(stations_starts, radius=10))\n",
    "m"
   ]
  },
  {
   "cell_type": "markdown",
   "metadata": {},
   "source": [
    "We see a signficant concentration of <i><b>divvy stations</b></i> in:\n",
    "    -  The loop\n",
    "    -  Northern neighborhoods on the lake like Lincoln Park \n",
    "    \n",
    "For our analysis, let's first understand the data broadly. \n",
    "\n",
    "We will <i><b>then</b></i> start with a neighborhood centric approach to analyzing the data. I believe that since neighborhoods contain residents that may share certain commonalities, we may see interesting trends <i><b>among</b></i> and <i><b>between</b></i> various neighborhoods."
   ]
  },
  {
   "cell_type": "code",
   "execution_count": null,
   "metadata": {},
   "outputs": [],
   "source": [
    "df.head()"
   ]
  },
  {
   "cell_type": "code",
   "execution_count": null,
   "metadata": {},
   "outputs": [],
   "source": [
    "g = sns.catplot(\n",
    "    x=\"month\", y=\"tripduration\", hue=\"usertype\",\n",
    "    data=df, kind=\"violin\"\n",
    ")"
   ]
  },
  {
   "cell_type": "code",
   "execution_count": null,
   "metadata": {},
   "outputs": [],
   "source": [
    "df[['month', 'usertype', 'tripduration']].groupby(['month', 'usertype']).mean().dropna(how='any')"
   ]
  },
  {
   "cell_type": "markdown",
   "metadata": {},
   "source": [
    "# Trip Duration Analysis Below\n",
    "\n",
    "It seems as though we are only getting customer data from <i><b>July</b></i>.\n",
    "\n",
    "How much does trip duration vary across event types?"
   ]
  },
  {
   "cell_type": "code",
   "execution_count": null,
   "metadata": {},
   "outputs": [],
   "source": [
    "g = sns.catplot(\n",
    "    x=\"events\", y=\"tripduration\",\n",
    "    data=df, kind=\"violin\"\n",
    ")"
   ]
  },
  {
   "cell_type": "code",
   "execution_count": null,
   "metadata": {
    "collapsed": true
   },
   "outputs": [],
   "source": [
    "#g = sns.catplot(\n",
    "#    x=\"events\", y=\"tripduration\", col=\"from_neighborhood\",\n",
    "#    data=df, kind=\"violin\"\n",
    "#)\n",
    "#plt.xticks(rotation=90)"
   ]
  },
  {
   "cell_type": "code",
   "execution_count": null,
   "metadata": {
    "collapsed": true
   },
   "outputs": [],
   "source": [
    "trip_durations_by_hood = df[['from_neighborhood', 'tripduration']].groupby(['from_neighborhood']).agg(['count', 'mean']).sort_values([('tripduration', 'mean')], ascending=False).reset_index()"
   ]
  },
  {
   "cell_type": "code",
   "execution_count": null,
   "metadata": {},
   "outputs": [],
   "source": [
    "trip_durations_by_hood.head()"
   ]
  },
  {
   "cell_type": "markdown",
   "metadata": {},
   "source": [
    "Let's add the top 5 neighborhoods (by average tripduration) to the map. Anything in common here?"
   ]
  },
  {
   "cell_type": "code",
   "execution_count": null,
   "metadata": {},
   "outputs": [],
   "source": [
    "for top_hood in ['Edgewater', 'Museum Campus', 'Little Village', 'Douglas', 'Gold Coast']:\n",
    "    add_neighborhood_overlay_to_map(m, top_hood, 'red', n_hood)\n",
    "m"
   ]
  },
  {
   "cell_type": "markdown",
   "metadata": {},
   "source": [
    "I am certainly gettting the impression that the top neighborhoods in terms of average trip duration are actually neighborhoods with a small amount of stations, this makes sense.\n",
    "\n",
    "We will do the following:\n",
    "    -  The top neighborhoods (1 --> 13): yellow\n",
    "    -  The middle neighborhoods (14 --> 26): green\n",
    "    -  The bottom neighborhoods (27 --> 39): blue"
   ]
  },
  {
   "cell_type": "code",
   "execution_count": null,
   "metadata": {
    "collapsed": true
   },
   "outputs": [],
   "source": [
    "trip_durations_by_hood['color'] = pd.cut(np.array(trip_durations_by_hood['tripduration']['mean']), 3, labels=[\"yellow\", \"green\", \"blue\"])"
   ]
  },
  {
   "cell_type": "code",
   "execution_count": null,
   "metadata": {},
   "outputs": [],
   "source": [
    "neighborhood_map = create_chicago_map()\n",
    "\n",
    "i = 1\n",
    "for neighborhood in trip_durations_by_hood.itertuples():\n",
    "    add_neighborhood_overlay_to_map(neighborhood_map, neighborhood[1], neighborhood[4], n_hood)\n",
    "    \n",
    "def trim(img):\n",
    "    border = Image.new(img.mode, img.size, img.getpixel((0, 0)))\n",
    "    diff = ImageChops.difference(img, border)\n",
    "    diff = ImageChops.add(diff, diff, 2.0, -100)\n",
    "    bbox = diff.getbbox()\n",
    "    if bbox:\n",
    "        img = img.crop(bbox)\n",
    "    return np.array(img)\n",
    "\n",
    "with Image.open('avg_trip_duration.png') as img:\n",
    "    image = trim(img)\n",
    "\n",
    "# We add our legend as an image.\n",
    "ImageOverlay(\n",
    "    image=image,\n",
    "    bounds=[[41.954883, -87.594551], [41.894883, -87.494551]],\n",
    "    zindex=1,\n",
    ").add_to(neighborhood_map)\n",
    "\n",
    "neighborhood_map"
   ]
  },
  {
   "cell_type": "code",
   "execution_count": null,
   "metadata": {},
   "outputs": [],
   "source": [
    "df[['week', 'tripduration']].groupby('week').mean().plot.bar(title=\"Avg. Trip Duration per Week\")"
   ]
  },
  {
   "cell_type": "markdown",
   "metadata": {},
   "source": [
    "Confirm below that week one corresponds to the first week of january as expected. The <font color='green'>chart above</font> makes sense now, as we would expect the average duration of trips to be shorter in the winter and longer in the summer."
   ]
  },
  {
   "cell_type": "code",
   "execution_count": null,
   "metadata": {},
   "outputs": [],
   "source": [
    "df[df.week == 1].head()"
   ]
  },
  {
   "cell_type": "markdown",
   "metadata": {},
   "source": [
    "# Station Capacity Analysis Below"
   ]
  },
  {
   "cell_type": "markdown",
   "metadata": {
    "collapsed": true
   },
   "source": [
    "We want to understand how capacity can potentially be analyzed and predicted. \n",
    "\n",
    "Let's first understand how neighborhoods differ when it comes to the percentage of trips that end at a different neighborhood vs. trips that end in the same neighborhood. Likewise, let's examine the same statistic for station to station trips."
   ]
  },
  {
   "cell_type": "code",
   "execution_count": null,
   "metadata": {
    "collapsed": true
   },
   "outputs": [],
   "source": [
    "n_hood_different_neighborhood_ratios = []\n",
    "for n in df.from_neighborhood.unique():\n",
    "    n_hood_different_neighborhood_ratios.append((n, len(df[(df.from_neighborhood == n) & (df.to_neighborhood != n)]) / len(df[df.from_neighborhood == n])))\n",
    "n_hood_different_neighborhood_ratios.sort(key=lambda tup: tup[1])"
   ]
  },
  {
   "cell_type": "code",
   "execution_count": null,
   "metadata": {
    "collapsed": true
   },
   "outputs": [],
   "source": [
    "neighborhood_diff_trip_end_density = create_chicago_map()\n",
    "for n, density in n_hood_different_neighborhood_ratios:\n",
    "    add_neighborhood_overlay_to_map_with_fill(neighborhood_diff_trip_end_density, n, 'yellow', n_hood, density)"
   ]
  },
  {
   "cell_type": "code",
   "execution_count": null,
   "metadata": {},
   "outputs": [],
   "source": [
    "neighborhood_diff_trip_end_density"
   ]
  },
  {
   "cell_type": "markdown",
   "metadata": {
    "collapsed": true
   },
   "source": [
    "-  We do notice that smaller neighborhoods tend to have more trips that end outside of them. This makes perfect sense riders are interested in going places, and the liklihood that a trips ends outside of a neighborhood boundry should probably increase the smaller a neighborhood is (or the vicinity of a station to a neighborhood edge for that matter).\n",
    "\n",
    "\n",
    "-  Furthermore, we notice that neighborhoods on the outer edge (i.e edge divvy stations) tend to have a higher density, which may indicate that trips tend to gravitate towards the center. This makes sense to me for two reasons:\n",
    "      -  Out of sheer necessity, if there is not a divvy station further from an edge, it is more likely that bikers will go in directions (central) that have divvy stations.\n",
    "      -  Assuming a significant portion of traffic involves people going to work or going to activities (bars, skating rinks, you name it..), there is a higher concentration of workplaces and activities the closer to the transportation hubs that you are (i.e. OTC, Union Stations, CTA stops...)  "
   ]
  },
  {
   "cell_type": "code",
   "execution_count": null,
   "metadata": {},
   "outputs": [],
   "source": [
    "df.head()"
   ]
  },
  {
   "cell_type": "code",
   "execution_count": null,
   "metadata": {},
   "outputs": [],
   "source": [
    "# Let's validate that many trips take place between typical work hours as hypothesized above.\n",
    "df[['week','hour']].groupby(['hour']).count().reset_index().rename(columns={\"week\": \"count\"}).plot.bar(x='hour', y='count', title='Amount of trips that start during this hour (military hours)')"
   ]
  },
  {
   "cell_type": "markdown",
   "metadata": {},
   "source": [
    "The bimodal distribution above with peaks at <font color='green'>__8am__</font> in the morning and <font color='green'>__5pm__</font> in the evening suggest that my hypothesis regarding work trips is at least partially correct."
   ]
  },
  {
   "cell_type": "markdown",
   "metadata": {
    "collapsed": true
   },
   "source": [
    "Let's examine capacity as it relates to various stations."
   ]
  },
  {
   "cell_type": "code",
   "execution_count": null,
   "metadata": {
    "collapsed": true
   },
   "outputs": [],
   "source": [
    "df['ym'] = df.starttime.apply(\n",
    "#    lambda x : str(x.split(' ')[0].split('-')[0]) + str(x.split(' ')[0].split('-')[1]) + str(x.split(' ')[0].split('-')[2])\n",
    "    lambda x : str(x.split(' ')[0].split('-')[0]) + str(x.split(' ')[0].split('-')[1])\n",
    ")"
   ]
  },
  {
   "cell_type": "code",
   "execution_count": null,
   "metadata": {},
   "outputs": [],
   "source": [
    "\n",
    "for station in df[df.from_neighborhood == 'Wicker Park'].from_station_name.unique():\n",
    "    # Pick a station, calculate the amount of trips from that station per day, let's start with a station near and dear to my heart, Ashland Ave & Division St\n",
    "    trips_from = df[df.from_station_name == station][\n",
    "        ['dpcapacity_start', 'ym', 'same_neighborhood_trip']\n",
    "    ].groupby(['ym', 'same_neighborhood_trip']).count().sort_values(by=[\n",
    "        'ym'\n",
    "    ], ascending=True).reset_index()\n",
    "    trips_from.columns = ['year_month', 'same_hood', 'count']\n",
    "    ax = sns.lineplot(x=\"year_month\", y=\"count\", hue=\"same_hood\", data=trips_from)\n",
    "    ax.set_title(station)\n",
    "    plt.show()"
   ]
  },
  {
   "cell_type": "code",
   "execution_count": null,
   "metadata": {},
   "outputs": [],
   "source": [
    "for n in df.from_neighborhood.unique():\n",
    "    # Pick a station, calculate the amount of trips from that station per day, let's start with a station near and dear to my heart, Ashland Ave & Division St\n",
    "    trips_from = df[df.from_neighborhood == n][\n",
    "        ['dpcapacity_start', 'ym', 'same_neighborhood_trip']\n",
    "    ].groupby(['ym', 'same_neighborhood_trip']).count().sort_values(by=[\n",
    "        'ym'\n",
    "    ], ascending=True).reset_index()\n",
    "    trips_from.columns = ['year_month', 'same_hood', 'count']\n",
    "    ax = sns.lineplot(x=\"year_month\", y=\"count\", hue=\"same_hood\", data=trips_from)\n",
    "    ax.set_title(n)\n",
    "    plt.show()"
   ]
  },
  {
   "cell_type": "markdown",
   "metadata": {},
   "source": [
    "-  <i>What stands out to me the most above</i>\n",
    "    -  There is a <b>MASSIVE</b> difference amoung the various neighborhoods in terms of sheer trip volume\n",
    "        -  E.g. The Loop and Lincoln Park are totally different beasts than Kenwood and Wicker Park\n",
    "    -  Neighborhoods that have close to similar parity between same neighborhood trips & diff neighborhood trips\n",
    "    -  Neighborhoods with different neighborhood trips domainating same neighborhood trips"
   ]
  },
  {
   "cell_type": "code",
   "execution_count": null,
   "metadata": {},
   "outputs": [],
   "source": [
    "g = sns.catplot(\n",
    "    x=\"same_neighborhood_trip\", y=\"tripduration\", col=\"gender\",\n",
    "    data=df, kind=\"box\"\n",
    ")"
   ]
  },
  {
   "cell_type": "markdown",
   "metadata": {
    "collapsed": true
   },
   "source": [
    "Girls are representing and biking longer! (IQR 75th is higher)\n",
    "\n",
    "How far off are capacities of from and to trips?"
   ]
  },
  {
   "cell_type": "code",
   "execution_count": null,
   "metadata": {},
   "outputs": [],
   "source": [
    "df['dpcapacity_start'] = df['dpcapacity_start'].astype('float')\n",
    "df['dpcapacity_end'] = df['dpcapacity_end'].astype('float')\n",
    "df['capacity_diff'] = df['dpcapacity_start'] - df['dpcapacity_end']"
   ]
  },
  {
   "cell_type": "code",
   "execution_count": null,
   "metadata": {},
   "outputs": [],
   "source": [
    "# Juicy information ...\n",
    "inflow_outflow_df = df[['from_neighborhood', 'capacity_diff']].groupby(['from_neighborhood']).mean().reset_index()\n",
    "outflow_max = inflow_outflow_df['capacity_diff'].max()\n",
    "inflow_min = inflow_outflow_df['capacity_diff'].min()"
   ]
  },
  {
   "cell_type": "code",
   "execution_count": null,
   "metadata": {},
   "outputs": [],
   "source": [
    "inflow_outflow_map = create_chicago_map()\n",
    "for _, n, density in inflow_outflow_df.itertuples():\n",
    "    if density < 0:\n",
    "        c, d = 'red', abs(density) / abs(inflow_min)\n",
    "    else:\n",
    "        c, d = 'green', density / outflow_max\n",
    "    add_neighborhood_overlay_to_map_with_fill(inflow_outflow_map, n, c, n_hood, d)"
   ]
  },
  {
   "cell_type": "code",
   "execution_count": null,
   "metadata": {},
   "outputs": [],
   "source": [
    "inflow_outflow_map"
   ]
  },
  {
   "cell_type": "code",
   "execution_count": null,
   "metadata": {
    "collapsed": true
   },
   "outputs": [],
   "source": []
  }
 ],
 "metadata": {
  "kernelspec": {
   "display_name": "Python Kern",
   "language": "python",
   "name": "env"
  },
  "language_info": {
   "codemirror_mode": {
    "name": "ipython",
    "version": 3
   },
   "file_extension": ".py",
   "mimetype": "text/x-python",
   "name": "python",
   "nbconvert_exporter": "python",
   "pygments_lexer": "ipython3",
   "version": "3.7.2"
  }
 },
 "nbformat": 4,
 "nbformat_minor": 2
}
