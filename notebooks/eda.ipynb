{
 "cells": [
  {
   "cell_type": "code",
   "execution_count": null,
   "metadata": {},
   "outputs": [],
   "source": [
    "############################################\n",
    "# \n",
    "# Marcus Bischof\n",
    "# Divvy EDA : Chicago\n",
    "#\n",
    "############################################\n",
    "\n",
    "# Operations\n",
    "import pandas as pd\n",
    "import numpy as np\n",
    "\n",
    "# Custom functions\n",
    "from functions_for_eda import *\n",
    "\n",
    "# Data viz\n",
    "from matplotlib import pyplot as plt\n",
    "import seaborn as sns\n",
    "\n",
    "# Maps\n",
    "import folium\n",
    "\n",
    "# Jupyter display\n",
    "pd.set_option('display.max_rows', 500)\n",
    "pd.set_option('display.max_columns', 500)\n",
    "\n",
    "# Do we need to load raw .csv, and create a single memory efficient .pkl?\n",
    "CREATE_SMALL_MEMORY_SET = False\n",
    "if CREATE_SMALL_MEMORY_SET:\n",
    "    create_memory_efficient_pkl()\n",
    "\n",
    "# Do we want to break up the 860+mb memory efficient .pkl into 10 slices?\n",
    "CREATE_SLICES_OF_MEMORY_EFFICIENT_PKL = False\n",
    "if CREATE_SLICES_OF_MEMORY_EFFICIENT_PKL:\n",
    "    create_slices_of_memory_efficient_pkl()\n",
    "    \n",
    "df = pd.read_pickle('../data/interim/df_0_1000000.pkl')\n",
    "n_hood = load_geojson_neighborhood_data()\n",
    "stations = pd.read_pickle('../data/processed/stations.pkl')"
   ]
  },
  {
   "cell_type": "markdown",
   "metadata": {},
   "source": [
    "-  __To create a map.__\n",
    "```\n",
    "create_chicago_map()\n",
    "```\n",
    "\n",
    "-  __To add points to a map.__ \\*\\*Note: icon must be a font-awesome icon.\n",
    "```\n",
    "add_points_to_map\n",
    "(\n",
    "    folium_map_obj, color, icon, points\n",
    ")\n",
    "```\n",
    "\n",
    "-  __To add a neighborhood overlay.__\n",
    "```\n",
    "add_neighborhood_overlay_to_map\n",
    "(\n",
    "        folium_map_obj, neighborhood_name, color, n_hood_df_polylines\n",
    ")\n",
    "```"
   ]
  },
  {
   "cell_type": "code",
   "execution_count": null,
   "metadata": {
    "collapsed": true
   },
   "outputs": [],
   "source": [
    "m = create_chicago_map()"
   ]
  },
  {
   "cell_type": "code",
   "execution_count": null,
   "metadata": {
    "collapsed": true
   },
   "outputs": [],
   "source": [
    "add_points_to_map(m, 'lightblue', 'bicycle', stations[:100])"
   ]
  },
  {
   "cell_type": "code",
   "execution_count": null,
   "metadata": {},
   "outputs": [],
   "source": [
    "df.head()"
   ]
  },
  {
   "cell_type": "code",
   "execution_count": null,
   "metadata": {
    "collapsed": true
   },
   "outputs": [],
   "source": []
  }
 ],
 "metadata": {
  "kernelspec": {
   "display_name": "Python Kern",
   "language": "python",
   "name": "env"
  },
  "language_info": {
   "codemirror_mode": {
    "name": "ipython",
    "version": 3
   },
   "file_extension": ".py",
   "mimetype": "text/x-python",
   "name": "python",
   "nbconvert_exporter": "python",
   "pygments_lexer": "ipython3",
   "version": "3.7.2"
  }
 },
 "nbformat": 4,
 "nbformat_minor": 2
}
