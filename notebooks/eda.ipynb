{
 "cells": [
  {
   "cell_type": "code",
   "execution_count": null,
   "metadata": {
    "collapsed": true
   },
   "outputs": [],
   "source": [
    "############################################\n",
    "# \n",
    "# Marcus Bischof\n",
    "# Divvy EDA : Chicago\n",
    "#\n",
    "############################################\n",
    "\n",
    "# Operations\n",
    "import pandas as pd\n",
    "import numpy as np\n",
    "\n",
    "# Custom functions\n",
    "from functions_for_eda import *\n",
    "\n",
    "# Data viz\n",
    "from matplotlib import pyplot as plt\n",
    "import seaborn as sns\n",
    "\n",
    "# Maps\n",
    "import folium\n",
    "\n",
    "# Jupyter display\n",
    "pd.set_option('display.max_rows', 500)\n",
    "pd.set_option('display.max_columns', 500)\n",
    "\n",
    "# Do we need to load raw .csv, and create a single memory efficient .pkl?\n",
    "CREATE_SMALL_MEMORY_SET = False\n",
    "if CREATE_SMALL_MEMORY_SET:\n",
    "    create_memory_efficient_pkl()\n",
    "    \n",
    "# Do we want to break up the 860+mb memory efficient .pkl into 10 slices?\n",
    "CREATE_SLICES_OF_MEMORY_EFFICIENT_PKL = False\n",
    "if CREATE_SLICES_OF_MEMORY_EFFICIENT_PKL:\n",
    "    create_slices_of_memory_efficient_pkl()\n",
    "    \n",
    "df = pd.read_pickle('../data/interim/df_0_1000000.pkl')"
   ]
  },
  {
   "cell_type": "code",
   "execution_count": null,
   "metadata": {
    "collapsed": true
   },
   "outputs": [],
   "source": [
    "n_hood = load_geojson_neighborhood_data()"
   ]
  },
  {
   "cell_type": "code",
   "execution_count": null,
   "metadata": {},
   "outputs": [],
   "source": [
    "# We assign from_ and to_neighborhoood names to trips.\n",
    "df['from_neighborhood'] = df[['longitude_start', 'latitude_start']].apply(lambda x : get_neighborhood_containing_point(x[0], x[1], n_hood), axis = 1)\n",
    "df['to_neighborhood'] = df[['longitude_end', 'latitude_end']].apply(lambda x : get_neighborhood_containing_point(x[0], x[1], n_hood), axis = 1)"
   ]
  },
  {
   "cell_type": "code",
   "execution_count": null,
   "metadata": {
    "collapsed": true
   },
   "outputs": [],
   "source": [
    "# Create a DataFrame of unique stations, and their point (point == (latitude, longitude)), \n",
    "# assuming stations always contain the same lat & long.\n",
    "stations = []\n",
    "for station in df.from_station_name.unique():\n",
    "    stations.append({ \n",
    "        'station' : station, \n",
    "        'lat' : df[df.from_station_name == station].head(1)['latitude_start'].values[0], \n",
    "        'long' : df[df.from_station_name == station].head(1)['longitude_start'].values[0]\n",
    "    })\n",
    "stations = pd.DataFrame(stations)"
   ]
  },
  {
   "cell_type": "code",
   "execution_count": null,
   "metadata": {
    "collapsed": true
   },
   "outputs": [],
   "source": [
    "# Starting latitude and longitude taken from: https://alysivji.github.io/getting-started-with-folium.html\n",
    "m = folium.Map([41.8781, -87.6298], zoom_start=11, tiles=\"CartoDB dark_matter\")"
   ]
  },
  {
   "cell_type": "code",
   "execution_count": null,
   "metadata": {
    "collapsed": true
   },
   "outputs": [],
   "source": [
    "# Plot the stations\n",
    "for tup in stations.itertuples():\n",
    "    print(tup)\n",
    "    folium.Marker([tup[1], tup[2]], popup=tup[3], icon=folium.Icon(color='red')).add_to(m)"
   ]
  },
  {
   "cell_type": "code",
   "execution_count": null,
   "metadata": {
    "collapsed": true
   },
   "outputs": [],
   "source": [
    "m"
   ]
  },
  {
   "cell_type": "code",
   "execution_count": null,
   "metadata": {
    "collapsed": true
   },
   "outputs": [],
   "source": [
    "# Create a column that tracks whether a trip ended at the station it started at.\n",
    "df['same_station_trip'] = df[['from_station_name', 'to_station_name']].apply(lambda x : x[0] == x[1],axis=1)"
   ]
  },
  {
   "cell_type": "code",
   "execution_count": null,
   "metadata": {
    "collapsed": true
   },
   "outputs": [],
   "source": [
    "i = 0\n",
    "# We want two different colors for stations where a journey originates, and stations where a journey ends.\n",
    "for tup in df[['from_station_name' , 'latitude_start', 'longitude_start', 'to_station_name' , 'latitude_end', 'longitude_end']].head(100).itertuples():\n",
    "    print(i)\n",
    "    i+=1\n",
    "    for name, lat, long, color in [(tup[1], tup[2], tup[3], \"#277554\"),(tup[4], tup[5], tup[6], \"#983352\")]:\n",
    "        print('current_tup --> {}'.format((name, lat, long, color)))\n",
    "        folium.Marker([lat, long], popup=name, icon=folium.Icon(color=color)).add_to(m)\n"
   ]
  },
  {
   "cell_type": "code",
   "execution_count": null,
   "metadata": {
    "collapsed": true
   },
   "outputs": [],
   "source": [
    "# Add square encircling wicker to the map.\n",
    "folium.PolyLine(wicker_points, color='blue').add_to(m)"
   ]
  },
  {
   "cell_type": "code",
   "execution_count": null,
   "metadata": {
    "collapsed": true
   },
   "outputs": [],
   "source": [
    "m"
   ]
  },
  {
   "cell_type": "code",
   "execution_count": null,
   "metadata": {
    "collapsed": true
   },
   "outputs": [],
   "source": []
  }
 ],
 "metadata": {
  "kernelspec": {
   "display_name": "Python Kern",
   "language": "python",
   "name": "env"
  },
  "language_info": {
   "codemirror_mode": {
    "name": "ipython",
    "version": 3
   },
   "file_extension": ".py",
   "mimetype": "text/x-python",
   "name": "python",
   "nbconvert_exporter": "python",
   "pygments_lexer": "ipython3",
   "version": "3.7.2"
  }
 },
 "nbformat": 4,
 "nbformat_minor": 2
}
