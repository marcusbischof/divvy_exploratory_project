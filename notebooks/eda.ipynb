{
 "cells": [
  {
   "cell_type": "code",
   "execution_count": null,
   "metadata": {
    "collapsed": true
   },
   "outputs": [],
   "source": [
    "############################################\n",
    "# \n",
    "# Marcus Bischof\n",
    "# Divvy EDA : Chicago\n",
    "#\n",
    "############################################\n",
    "\n",
    "# Operations\n",
    "import pandas as pd\n",
    "import numpy as np\n",
    "\n",
    "# Data viz\n",
    "from matplotlib import pyplot as plt\n",
    "import seaborn as sns\n",
    "\n",
    "# Maps\n",
    "import folium\n",
    "\n",
    "# Jupyter display\n",
    "pd.set_option('display.max_rows', 500)\n",
    "pd.set_option('display.max_columns', 500)\n",
    "\n",
    "# Do we need to create and pickle a memory efficient version of the divvy data?\n",
    "CREATE_SMALL_MEMORY_SET = True\n",
    "\n",
    "if CREATE_SMALL_MEMORY_SET:\n",
    "\n",
    "    df = pd.read_csv('../data/raw/divvy_data.csv') \n",
    "    \n",
    "    # Objects with defined ranges (I do this to from_ and to_station because we are just dealing with Chicago)\n",
    "    for object_to_cat_feature in ['gender', 'usertype', 'events', 'from_station_name', 'to_station_name']:\n",
    "        df[object_to_cat_feature] = df[object_to_cat_feature].astype('category')\n",
    "        \n",
    "    # We will need to apply space saving operations on the data here to make it more manageable in local memory.\n",
    "    # df.describe() defaults to numerics, so figure out the ranges for numerics and downsize when possible.\n",
    "    df.describe().T[['min', 'max']]\n",
    "\n",
    "    # Ints with values ranging from 0 to 255 can be stored as uint8\n",
    "    for small_int_feature in ['day', 'month', 'week', 'hour', 'tripduration', 'dpcapacity_start', 'dpcapacity_end']:\n",
    "        df[small_int_feature] = df[small_int_feature].astype('uint8')\n",
    "\n",
    "    # Ints with values ranging from 0 to 65535 can be stored as uint16\n",
    "    for med_int_feature in ['year', 'from_station_id']:\n",
    "        df[small_int_feature] = df[small_int_feature].astype('uint16')\n",
    "\n",
    "    for sm_float_val in ['latitude_start', 'longitude_start', 'latitude_end', 'longitude_end']:\n",
    "        df[sm_float_val] = df[sm_float_val].astype('float64')\n",
    "\n",
    "    # int8 -128 to 127\n",
    "    df.temperature = df.temperature.astype('int8')\n",
    "    \n",
    "    df.to_pickle('../data/processed/divvy_data_small_memory.pkl')\n",
    "\n",
    "# Do we want to load the more memory efficient pickle or not?\n",
    "LOAD_FROM_SMALLER_MEMORY = True\n",
    "\n",
    "df = pd.read_csv('../data/raw/divvy_data.csv') if not LOAD_FROM_SMALLER_MEMORY else pd.read_pickle('../data/processed/divvy_data_small_memory.pkl')\n",
    "\n",
    "df.info()"
   ]
  },
  {
   "cell_type": "code",
   "execution_count": null,
   "metadata": {
    "collapsed": true
   },
   "outputs": [],
   "source": [
    "# Create a DataFrame of unique stations, and their point (point == (latitude, longitude)), \n",
    "# assuming from_station and to_station exhaust the same list of stations.\n",
    "stations = df[['from_station_name', 'latitude_start', 'longitude_start', 'events']].groupby(\n",
    "    ['from_station_name', 'latitude_start', 'longitude_start']\n",
    ").count().dropna(how='any').reset_index()\n",
    "stations.pop('events')\n",
    "stations.columns = ['station', 'lat', 'long']"
   ]
  },
  {
   "cell_type": "code",
   "execution_count": null,
   "metadata": {
    "collapsed": true
   },
   "outputs": [],
   "source": [
    "# Wicker park is a nicely defined square.\n",
    "# Using the Google Maps overlay seen below, combined with latitudes and longitudes taken from https://www.latlong.net/,\n",
    "# we can define Wicker Park's (approximate) boundaries.\n",
    "\n",
    "#wicker_tr = (41.914238, -87.667908)\n",
    "#wicker_tl = (41.913950, -87.687312)\n",
    "#wicker_bl = (41.903032, -87.687017)\n",
    "#wicker_br = (41.903354, -87.667525)\n",
    "\n",
    "wicker_tr = (41.91, -87.67)\n",
    "wicker_tl = (41.91, -87.69)\n",
    "wicker_bl = (41.90, -87.69)\n",
    "wicker_br = (41.90, -87.67)\n",
    "\n",
    "wicker_points = [wicker_tr, wicker_tl, wicker_bl, wicker_br]"
   ]
  },
  {
   "cell_type": "code",
   "execution_count": null,
   "metadata": {
    "collapsed": true
   },
   "outputs": [],
   "source": [
    "#wicker_park_stations = stations[\n",
    "#    (stations['lat'] <= wicker_tr[0]) & (stations['lat'] <= wicker_tl[0]) &\n",
    "#    (stations['lat'] >= wicker_br[0]) & (stations['lat'] >= wicker_bl[0]) &\n",
    "#    (stations['long'] >= wicker_tr[1]) & (stations['long'] >= wicker_br[1]) &\n",
    "#    (stations['long'] <= wicker_tl[1]) & (stations['long'] <= wicker_bl[1])\n",
    "#]"
   ]
  },
  {
   "cell_type": "code",
   "execution_count": null,
   "metadata": {
    "collapsed": true
   },
   "outputs": [],
   "source": [
    "# Starting latitude and longitude taken from: https://alysivji.github.io/getting-started-with-folium.html\n",
    "m = folium.Map([41.8781, -87.6298], zoom_start=11, tiles=\"CartoDB dark_matter\")\n",
    "\n",
    "# Plot the stations\n",
    "for tup in stations.itertuples():\n",
    "    print(tup)\n",
    "    folium.Marker([tup[2], tup[3]], popup=tup[1], icon=folium.Icon(color='red')).add_to(m)"
   ]
  },
  {
   "cell_type": "code",
   "execution_count": null,
   "metadata": {
    "collapsed": true
   },
   "outputs": [],
   "source": [
    "# Create a column that tracks whether a trip ended at the station it started at.\n",
    "df['same_station_trip'] = df[['from_station_name', 'to_station_name']].apply(lambda x : x[0] == x[1],axis=1)"
   ]
  },
  {
   "cell_type": "code",
   "execution_count": null,
   "metadata": {
    "collapsed": true
   },
   "outputs": [],
   "source": [
    "i = 0\n",
    "# We want two different colors for stations where a journey originates, and stations where a journey ends.\n",
    "for tup in df[['from_station_name' , 'latitude_start', 'longitude_start', 'to_station_name' , 'latitude_end', 'longitude_end']].head(100).itertuples():\n",
    "    print(i)\n",
    "    i+=1\n",
    "    for name, lat, long, color in [(tup[1], tup[2], tup[3], \"#277554\"),(tup[4], tup[5], tup[6], \"#983352\")]:\n",
    "        print('current_tup --> {}'.format((name, lat, long, color)))\n",
    "        \"\"\"\n",
    "        folium.SimpleMarker([lat, long],\n",
    "                            radius=1,\n",
    "                            #popup=name,\n",
    "                            fill_color=color, # divvy color\n",
    "                           ).add_to(m)\n",
    "        \"\"\"\n",
    "        folium.Marker([lat, long], popup=name, icon=folium.Icon(color=color)).add_to(m)\n"
   ]
  },
  {
   "cell_type": "code",
   "execution_count": null,
   "metadata": {
    "collapsed": true
   },
   "outputs": [],
   "source": [
    "# Add square encircling wicker to the map.\n",
    "folium.PolyLine(wicker_points, color='blue').add_to(m)"
   ]
  }
 ],
 "metadata": {
  "kernelspec": {
   "display_name": "Python Kern",
   "language": "python",
   "name": "env"
  },
  "language_info": {
   "codemirror_mode": {
    "name": "ipython",
    "version": 3
   },
   "file_extension": ".py",
   "mimetype": "text/x-python",
   "name": "python",
   "nbconvert_exporter": "python",
   "pygments_lexer": "ipython3",
   "version": "3.7.2"
  }
 },
 "nbformat": 4,
 "nbformat_minor": 2
}
